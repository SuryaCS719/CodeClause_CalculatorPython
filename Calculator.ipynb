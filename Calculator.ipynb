{
 "cells": [
  {
   "cell_type": "code",
   "execution_count": 7,
   "metadata": {},
   "outputs": [
    {
     "name": "stdout",
     "output_type": "stream",
     "text": [
      "Select an operation:\n",
      "1. Addition\n",
      "2. Subtraction\n",
      "3. Multiplication\n",
      "4. Division\n",
      "5. Perform All Operations\n",
      "6. Exit Program\n",
      "Enter your choice (1-6): 5\n",
      "Enter the first number: 50\n",
      "Enter the second number: 100\n",
      "50.0 + 100.0 = 150.0\n",
      "50.0 - 100.0 = -50.0\n",
      "50.0 * 100.0 = 5000.0\n",
      "50.0 / 100.0 = 0.5\n",
      "------------------------------------\n",
      "Enter your choice (1-6): 6\n",
      "Exiting the program.\n"
     ]
    }
   ],
   "source": [
    "def add(x, y):\n",
    "    return x + y\n",
    "\n",
    "def subtract(x, y):\n",
    "    return x - y\n",
    "\n",
    "def multiply(x, y):\n",
    "    return x * y\n",
    "\n",
    "def divide(x, y):\n",
    "    if y != 0:\n",
    "        return x / y\n",
    "    else:\n",
    "        return \"Cannot divide by zero!\"\n",
    "\n",
    "print(\"Select an operation:\")\n",
    "print(\"1. Addition\")\n",
    "print(\"2. Subtraction\")\n",
    "print(\"3. Multiplication\")\n",
    "print(\"4. Division\")\n",
    "print(\"5. Perform All Operations\")\n",
    "print(\"6. Exit Program\")\n",
    "\n",
    "while True:\n",
    "    choice = input(\"Enter your choice (1-6): \")\n",
    "\n",
    "    if choice == '6':\n",
    "        print(\"Exiting the program.\")\n",
    "        break\n",
    "\n",
    "    if choice in ('1', '2', '3', '4', '5'):\n",
    "        num1 = float(input(\"Enter the first number: \"))\n",
    "        num2 = float(input(\"Enter the second number: \"))\n",
    "\n",
    "        if choice == '1':\n",
    "            print(num1, \"+\", num2, \"=\", add(num1, num2))\n",
    "        elif choice == '2':\n",
    "            print(num1, \"-\", num2, \"=\", subtract(num1, num2))\n",
    "        elif choice == '3':\n",
    "            print(num1, \"*\", num2, \"=\", multiply(num1, num2))\n",
    "        elif choice == '4':\n",
    "            print(num1, \"/\", num2, \"=\", divide(num1, num2))\n",
    "        elif choice == '5':\n",
    "            print(num1, \"+\", num2, \"=\", add(num1, num2))\n",
    "            print(num1, \"-\", num2, \"=\", subtract(num1, num2))\n",
    "            print(num1, \"*\", num2, \"=\", multiply(num1, num2))\n",
    "            print(num1, \"/\", num2, \"=\", divide(num1, num2))\n",
    "        print(\"------------------------------------\")\n",
    "    else:\n",
    "        print(\"Invalid input. Please enter a valid choice.\")\n"
   ]
  },
  {
   "cell_type": "code",
   "execution_count": null,
   "metadata": {},
   "outputs": [],
   "source": []
  }
 ],
 "metadata": {
  "kernelspec": {
   "display_name": "Python 3",
   "language": "python",
   "name": "python3"
  }
 },
 "nbformat": 4,
 "nbformat_minor": 4
}
